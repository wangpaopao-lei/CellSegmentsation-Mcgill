{
 "cells": [
  {
   "cell_type": "code",
   "execution_count": 1,
   "metadata": {},
   "outputs": [],
   "source": [
    "import numpy as np\n",
    "from scipy.ndimage import convolve\n",
    "\n",
    "def convolve_gene_expression(data, kernel_size):\n",
    "    \"\"\"\n",
    "    对给定的三维基因表达数据进行累加卷积操作。\n",
    "\n",
    "    参数:\n",
    "    - data: 一个形状为 (height, width, depth) 的 ndarray，代表基因表达数据。\n",
    "    - kernel_size: 卷积核的大小，n 表示 n*n 的卷积核。\n",
    "\n",
    "    返回:\n",
    "    - 卷积后的基因表达数据，形状为 (height, width, depth) 的 ndarray。\n",
    "    \"\"\"\n",
    "    # 创建一个 n*n 的卷积核，这里使用全1，代表简单的相加操作\n",
    "    kernel = np.ones((kernel_size, kernel_size))\n",
    "\n",
    "    # 初始化输出数据\n",
    "    convolved_data = np.zeros(data.shape)\n",
    "\n",
    "    # 对每个 depth (每个基因表达分量) 单独进行卷积\n",
    "    for i in range(data.shape[-1]):\n",
    "        # 注意：convolve 函数自动处理边界，使用 mode='constant'，并且常数值为0\n",
    "        convolved_data[:, :, i] = convolve(data[:, :, i], kernel, mode='constant', cval=0.0)\n",
    "\n",
    "    return convolved_data\n",
    "\n",
    "# 示例：\n",
    "data = np.load(\"dataset/expression_matrix.npy\",allow_pickle=True) # 假设数据\n",
    "kernel_size = 5  # 比如 3*3 的卷积核\n",
    "convolved_data = convolve_gene_expression(data, kernel_size)"
   ]
  },
  {
   "cell_type": "code",
   "execution_count": null,
   "metadata": {},
   "outputs": [],
   "source": [
    "from sklearn.decomposition import PCA\n",
    "\n",
    "def apply_pca_and_reshape(data, n_components):\n",
    "    \"\"\"\n",
    "    对给定的基因表达数据应用PCA降维，并将结果重塑回原始的图像空间尺寸。\n",
    "\n",
    "    参数:\n",
    "    - data: 一个形状为 (height, width, depth) 的 ndarray，代表基因表达数据。\n",
    "    - n_components: 降维后的维数。\n",
    "\n",
    "    返回:\n",
    "    - 降维并重塑后的基因表达数据，形状为 (height, width, n_components)。\n",
    "    \"\"\"\n",
    "    # 重新塑形数据以适应PCA\n",
    "    reshaped_data = data.reshape(-1, data.shape[-1])\n",
    "    \n",
    "    # 初始化PCA对象\n",
    "    pca = PCA(n_components=n_components)\n",
    "    \n",
    "    # 对数据应用PCA\n",
    "    pca_data = pca.fit_transform(reshaped_data)\n",
    "    \n",
    "    # 将降维后的数据重新塑形回原始图像的空间尺寸\n",
    "    reshaped_pca_data = pca_data.reshape(data.shape[0], data.shape[1], n_components)\n",
    "\n",
    "    return reshaped_pca_data\n",
    "\n",
    "# 示例：\n",
    "# 假设 convolved_data 是经过卷积操作的数据，形状为 (1200, 1200, 2000)\n",
    "n_components = 50  # 假设你想将数据降维到50维\n",
    "pca_and_reshaped_data = apply_pca_and_reshape(convolved_data, n_components)\n",
    "\n",
    "np.save(\"dataset/expression_matrix.npy\",pca_and_reshaped_data)"
   ]
  },
  {
   "cell_type": "code",
   "execution_count": null,
   "metadata": {},
   "outputs": [],
   "source": []
  },
  {
   "cell_type": "code",
   "execution_count": null,
   "metadata": {},
   "outputs": [],
   "source": []
  },
  {
   "cell_type": "code",
   "execution_count": null,
   "metadata": {},
   "outputs": [],
   "source": []
  },
  {
   "cell_type": "code",
   "execution_count": null,
   "metadata": {},
   "outputs": [],
   "source": []
  }
 ],
 "metadata": {
  "kernelspec": {
   "display_name": "CS",
   "language": "python",
   "name": "python3"
  },
  "language_info": {
   "codemirror_mode": {
    "name": "ipython",
    "version": 3
   },
   "file_extension": ".py",
   "mimetype": "text/x-python",
   "name": "python",
   "nbconvert_exporter": "python",
   "pygments_lexer": "ipython3",
   "version": "3.9.18"
  }
 },
 "nbformat": 4,
 "nbformat_minor": 2
}
